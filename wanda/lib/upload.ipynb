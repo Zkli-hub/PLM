{
 "cells": [
  {
   "cell_type": "code",
   "execution_count": 1,
   "metadata": {},
   "outputs": [
    {
     "name": "stderr",
     "output_type": "stream",
     "text": [
      "/home/yifei/anaconda3/envs/plm/lib/python3.9/site-packages/tqdm/auto.py:21: TqdmWarning: IProgress not found. Please update jupyter and ipywidgets. See https://ipywidgets.readthedocs.io/en/stable/user_install.html\n",
      "  from .autonotebook import tqdm as notebook_tqdm\n",
      "Layer0_self_P_matrix.pt: 100%|██████████| 134M/134M [00:15<00:00, 8.86MB/s]   \n"
     ]
    },
    {
     "data": {
      "text/plain": [
       "CommitInfo(commit_url='https://huggingface.co/Zkli/init_mod_test/commit/e354ea6d4d0dfaa47c819dd697565003928c5629', commit_message='Upload Layer0_self_P_matrix.pt with huggingface_hub', commit_description='', oid='e354ea6d4d0dfaa47c819dd697565003928c5629', pr_url=None, repo_url=RepoUrl('https://hf-mirror.com/Zkli/init_mod_test', endpoint='https://hf-mirror.com', repo_type='model', repo_id='Zkli/init_mod_test'), pr_revision=None, pr_num=None)"
      ]
     },
     "execution_count": 1,
     "metadata": {},
     "output_type": "execute_result"
    }
   ],
   "source": [
    "from huggingface_hub import upload_file\n",
    "\n",
    "# Path to your local file\n",
    "file_path = \"/home/yifei/zkli/mtest/wanda/p_weight/Layer0_self_P_matrix.pt\"\n",
    "\n",
    "# Repository ID (replace with your username and repo name)\n",
    "repo_id = \"Zkli/init_mod_test\"\n",
    "\n",
    "# Upload the file\n",
    "upload_file(\n",
    "    path_or_fileobj=file_path,\n",
    "    path_in_repo=\"Layer0_self_P_matrix.pt\",  # This determines the file's location in the repo\n",
    "    repo_id=repo_id,\n",
    "    repo_type=\"model\"  # Use \"model\" for model repos\n",
    ")\n"
   ]
  },
  {
   "cell_type": "code",
   "execution_count": 4,
   "metadata": {},
   "outputs": [
    {
     "name": "stderr",
     "output_type": "stream",
     "text": [
      "Layer10_self_P_matrix.pt: 100%|██████████| 134M/134M [00:15<00:00, 8.76MB/s]   \n"
     ]
    },
    {
     "name": "stdout",
     "output_type": "stream",
     "text": [
      "Uploaded: Layer10_self_P_matrix.pt\n"
     ]
    },
    {
     "name": "stderr",
     "output_type": "stream",
     "text": [
      "Layer1_self_P_matrix.pt: 100%|██████████| 134M/134M [00:10<00:00, 13.0MB/s] \n"
     ]
    },
    {
     "name": "stdout",
     "output_type": "stream",
     "text": [
      "Uploaded: Layer1_self_P_matrix.pt\n"
     ]
    },
    {
     "name": "stderr",
     "output_type": "stream",
     "text": [
      "Layer28_self_P_matrix.pt: 100%|██████████| 134M/134M [00:11<00:00, 12.2MB/s] \n"
     ]
    },
    {
     "name": "stdout",
     "output_type": "stream",
     "text": [
      "Uploaded: Layer28_self_P_matrix.pt\n"
     ]
    },
    {
     "name": "stderr",
     "output_type": "stream",
     "text": [
      "Layer2_self_P_matrix.pt: 100%|██████████| 134M/134M [00:10<00:00, 12.9MB/s] \n"
     ]
    },
    {
     "name": "stdout",
     "output_type": "stream",
     "text": [
      "Uploaded: Layer2_self_P_matrix.pt\n"
     ]
    },
    {
     "name": "stderr",
     "output_type": "stream",
     "text": [
      "Layer7_self_P_matrix.pt: 100%|██████████| 134M/134M [00:11<00:00, 12.1MB/s] \n"
     ]
    },
    {
     "name": "stdout",
     "output_type": "stream",
     "text": [
      "Uploaded: Layer7_self_P_matrix.pt\n"
     ]
    },
    {
     "name": "stderr",
     "output_type": "stream",
     "text": [
      "Layer20_self_P_matrix.pt: 100%|██████████| 134M/134M [00:12<00:00, 11.1MB/s] \n"
     ]
    },
    {
     "name": "stdout",
     "output_type": "stream",
     "text": [
      "Uploaded: Layer20_self_P_matrix.pt\n"
     ]
    },
    {
     "name": "stderr",
     "output_type": "stream",
     "text": [
      "Layer19_self_P_matrix.pt: 100%|██████████| 134M/134M [00:11<00:00, 12.1MB/s] \n"
     ]
    },
    {
     "name": "stdout",
     "output_type": "stream",
     "text": [
      "Uploaded: Layer19_self_P_matrix.pt\n"
     ]
    },
    {
     "name": "stderr",
     "output_type": "stream",
     "text": [
      "Layer9_self_P_matrix.pt: 100%|██████████| 134M/134M [00:10<00:00, 13.0MB/s] \n"
     ]
    },
    {
     "name": "stdout",
     "output_type": "stream",
     "text": [
      "Uploaded: Layer9_self_P_matrix.pt\n"
     ]
    },
    {
     "name": "stderr",
     "output_type": "stream",
     "text": [
      "Layer6_self_P_matrix.pt: 100%|██████████| 134M/134M [00:10<00:00, 12.2MB/s] \n"
     ]
    },
    {
     "name": "stdout",
     "output_type": "stream",
     "text": [
      "Uploaded: Layer6_self_P_matrix.pt\n"
     ]
    },
    {
     "name": "stderr",
     "output_type": "stream",
     "text": [
      "Layer16_self_P_matrix.pt: 100%|██████████| 134M/134M [00:10<00:00, 13.0MB/s] \n"
     ]
    },
    {
     "name": "stdout",
     "output_type": "stream",
     "text": [
      "Uploaded: Layer16_self_P_matrix.pt\n"
     ]
    },
    {
     "name": "stderr",
     "output_type": "stream",
     "text": [
      "Layer23_self_P_matrix.pt: 100%|██████████| 134M/134M [00:12<00:00, 10.7MB/s] \n"
     ]
    },
    {
     "name": "stdout",
     "output_type": "stream",
     "text": [
      "Uploaded: Layer23_self_P_matrix.pt\n"
     ]
    },
    {
     "name": "stderr",
     "output_type": "stream",
     "text": [
      "Layer18_self_P_matrix.pt: 100%|██████████| 134M/134M [00:10<00:00, 13.1MB/s] \n"
     ]
    },
    {
     "name": "stdout",
     "output_type": "stream",
     "text": [
      "Uploaded: Layer18_self_P_matrix.pt\n"
     ]
    },
    {
     "name": "stderr",
     "output_type": "stream",
     "text": [
      "Layer29_self_P_matrix.pt: 100%|██████████| 134M/134M [00:10<00:00, 13.0MB/s] \n"
     ]
    },
    {
     "name": "stdout",
     "output_type": "stream",
     "text": [
      "Uploaded: Layer29_self_P_matrix.pt\n"
     ]
    },
    {
     "name": "stderr",
     "output_type": "stream",
     "text": [
      "Layer26_self_P_matrix.pt: 100%|██████████| 134M/134M [00:10<00:00, 12.3MB/s] \n"
     ]
    },
    {
     "name": "stdout",
     "output_type": "stream",
     "text": [
      "Uploaded: Layer26_self_P_matrix.pt\n"
     ]
    },
    {
     "name": "stderr",
     "output_type": "stream",
     "text": [
      "Layer14_self_P_matrix.pt: 100%|██████████| 134M/134M [00:10<00:00, 13.3MB/s] \n"
     ]
    },
    {
     "name": "stdout",
     "output_type": "stream",
     "text": [
      "Uploaded: Layer14_self_P_matrix.pt\n"
     ]
    },
    {
     "name": "stderr",
     "output_type": "stream",
     "text": [
      "Layer11_self_P_matrix.pt: 100%|██████████| 134M/134M [00:10<00:00, 13.1MB/s] \n"
     ]
    },
    {
     "name": "stdout",
     "output_type": "stream",
     "text": [
      "Uploaded: Layer11_self_P_matrix.pt\n"
     ]
    },
    {
     "name": "stderr",
     "output_type": "stream",
     "text": [
      "Layer27_self_P_matrix.pt: 100%|██████████| 134M/134M [00:12<00:00, 10.9MB/s] \n"
     ]
    },
    {
     "name": "stdout",
     "output_type": "stream",
     "text": [
      "Uploaded: Layer27_self_P_matrix.pt\n"
     ]
    },
    {
     "name": "stderr",
     "output_type": "stream",
     "text": [
      "Layer24_self_P_matrix.pt: 100%|██████████| 134M/134M [00:11<00:00, 12.0MB/s] \n"
     ]
    },
    {
     "name": "stdout",
     "output_type": "stream",
     "text": [
      "Uploaded: Layer24_self_P_matrix.pt\n"
     ]
    },
    {
     "name": "stderr",
     "output_type": "stream",
     "text": [
      "Layer5_self_P_matrix.pt: 100%|██████████| 134M/134M [00:10<00:00, 13.0MB/s] \n"
     ]
    },
    {
     "name": "stdout",
     "output_type": "stream",
     "text": [
      "Uploaded: Layer5_self_P_matrix.pt\n"
     ]
    },
    {
     "name": "stderr",
     "output_type": "stream",
     "text": [
      "Layer31_self_P_matrix.pt: 100%|██████████| 134M/134M [00:10<00:00, 13.1MB/s] \n"
     ]
    },
    {
     "name": "stdout",
     "output_type": "stream",
     "text": [
      "Uploaded: Layer31_self_P_matrix.pt\n"
     ]
    },
    {
     "name": "stderr",
     "output_type": "stream",
     "text": [
      "Layer15_self_P_matrix.pt: 100%|██████████| 134M/134M [00:10<00:00, 12.9MB/s] \n"
     ]
    },
    {
     "name": "stdout",
     "output_type": "stream",
     "text": [
      "Uploaded: Layer15_self_P_matrix.pt\n"
     ]
    },
    {
     "name": "stderr",
     "output_type": "stream",
     "text": [
      "Layer4_self_P_matrix.pt: 100%|██████████| 134M/134M [00:12<00:00, 11.0MB/s] \n"
     ]
    },
    {
     "name": "stdout",
     "output_type": "stream",
     "text": [
      "Uploaded: Layer4_self_P_matrix.pt\n"
     ]
    },
    {
     "name": "stderr",
     "output_type": "stream",
     "text": [
      "Layer30_self_P_matrix.pt: 100%|██████████| 134M/134M [00:10<00:00, 13.1MB/s] \n"
     ]
    },
    {
     "name": "stdout",
     "output_type": "stream",
     "text": [
      "Uploaded: Layer30_self_P_matrix.pt\n"
     ]
    },
    {
     "name": "stderr",
     "output_type": "stream",
     "text": [
      "Layer0_self_P_matrix.pt: 100%|██████████| 134M/134M [00:11<00:00, 11.6MB/s] \n"
     ]
    },
    {
     "name": "stdout",
     "output_type": "stream",
     "text": [
      "Uploaded: Layer0_self_P_matrix.pt\n"
     ]
    },
    {
     "name": "stderr",
     "output_type": "stream",
     "text": [
      "Layer22_self_P_matrix.pt: 100%|██████████| 134M/134M [00:10<00:00, 12.7MB/s] \n"
     ]
    },
    {
     "name": "stdout",
     "output_type": "stream",
     "text": [
      "Uploaded: Layer22_self_P_matrix.pt\n"
     ]
    },
    {
     "name": "stderr",
     "output_type": "stream",
     "text": [
      "Layer13_self_P_matrix.pt: 100%|██████████| 134M/134M [00:11<00:00, 11.4MB/s] \n"
     ]
    },
    {
     "name": "stdout",
     "output_type": "stream",
     "text": [
      "Uploaded: Layer13_self_P_matrix.pt\n"
     ]
    },
    {
     "name": "stderr",
     "output_type": "stream",
     "text": [
      "Layer21_self_P_matrix.pt: 100%|██████████| 134M/134M [00:10<00:00, 13.3MB/s] \n"
     ]
    },
    {
     "name": "stdout",
     "output_type": "stream",
     "text": [
      "Uploaded: Layer21_self_P_matrix.pt\n"
     ]
    },
    {
     "name": "stderr",
     "output_type": "stream",
     "text": [
      "Layer12_self_P_matrix.pt: 100%|██████████| 134M/134M [00:10<00:00, 13.0MB/s] \n"
     ]
    },
    {
     "name": "stdout",
     "output_type": "stream",
     "text": [
      "Uploaded: Layer12_self_P_matrix.pt\n"
     ]
    },
    {
     "name": "stderr",
     "output_type": "stream",
     "text": [
      "Layer8_self_P_matrix.pt: 100%|██████████| 134M/134M [00:10<00:00, 13.1MB/s] \n"
     ]
    },
    {
     "name": "stdout",
     "output_type": "stream",
     "text": [
      "Uploaded: Layer8_self_P_matrix.pt\n"
     ]
    },
    {
     "name": "stderr",
     "output_type": "stream",
     "text": [
      "Layer3_self_P_matrix.pt: 100%|██████████| 134M/134M [00:11<00:00, 12.1MB/s] \n"
     ]
    },
    {
     "name": "stdout",
     "output_type": "stream",
     "text": [
      "Uploaded: Layer3_self_P_matrix.pt\n"
     ]
    },
    {
     "name": "stderr",
     "output_type": "stream",
     "text": [
      "Layer25_self_P_matrix.pt: 100%|██████████| 134M/134M [00:12<00:00, 11.2MB/s] \n"
     ]
    },
    {
     "name": "stdout",
     "output_type": "stream",
     "text": [
      "Uploaded: Layer25_self_P_matrix.pt\n"
     ]
    },
    {
     "name": "stderr",
     "output_type": "stream",
     "text": [
      "Layer17_self_P_matrix.pt: 100%|██████████| 134M/134M [00:11<00:00, 11.6MB/s] \n"
     ]
    },
    {
     "name": "stdout",
     "output_type": "stream",
     "text": [
      "Uploaded: Layer17_self_P_matrix.pt\n"
     ]
    }
   ],
   "source": [
    "import os\n",
    "from huggingface_hub import upload_file\n",
    "\n",
    "# Directory containing the files\n",
    "directory = \"/home/yifei/zkli/mtest/wanda/p_weight\"\n",
    "\n",
    "# Repository ID (replace with your username and repo name)\n",
    "repo_id = \"Zkli/init_mod_test\"\n",
    "\n",
    "# Loop through all files in the directory\n",
    "for filename in os.listdir(directory):\n",
    "    if filename.startswith(\"Layer\") and filename.endswith(\"self_P_matrix.pt\"):\n",
    "        # Full path to the local file\n",
    "        file_path = os.path.join(directory, filename)\n",
    "        \n",
    "        # Upload each file\n",
    "        upload_file(\n",
    "            path_or_fileobj=file_path,\n",
    "            path_in_repo=filename,  # Uploads with the same filename to the repo\n",
    "            repo_id=repo_id,\n",
    "            repo_type=\"model\"  # Specify the repo type as \"model\"\n",
    "        )\n",
    "        print(f\"Uploaded: {filename}\")\n"
   ]
  },
  {
   "cell_type": "code",
   "execution_count": 8,
   "metadata": {},
   "outputs": [
    {
     "data": {
      "text/plain": [
       "CommitInfo(commit_url='https://huggingface.co/Zkli/init_mod_test/commit/e3431d3f449a253909619adbb032e45c5747853b', commit_message='Upload run.sh with huggingface_hub', commit_description='', oid='e3431d3f449a253909619adbb032e45c5747853b', pr_url=None, repo_url=RepoUrl('https://hf-mirror.com/Zkli/init_mod_test', endpoint='https://hf-mirror.com', repo_type='model', repo_id='Zkli/init_mod_test'), pr_revision=None, pr_num=None)"
      ]
     },
     "execution_count": 8,
     "metadata": {},
     "output_type": "execute_result"
    }
   ],
   "source": [
    "from huggingface_hub import upload_file\n",
    "\n",
    "# Path to your local file\n",
    "file_path = \"/home/yifei/zkli/mtest/wanda/run.sh\"\n",
    "\n",
    "# Repository ID (replace with your username and repo name)\n",
    "repo_id = \"Zkli/init_mod_test\"\n",
    "\n",
    "# Upload the file\n",
    "upload_file(\n",
    "    path_or_fileobj=file_path,\n",
    "    path_in_repo=\"run.sh\",  # This determines the file's location in the repo\n",
    "    repo_id=repo_id,\n",
    "    repo_type=\"model\"  # Use \"model\" for model repos\n",
    ")\n"
   ]
  }
 ],
 "metadata": {
  "kernelspec": {
   "display_name": "plm",
   "language": "python",
   "name": "python3"
  },
  "language_info": {
   "codemirror_mode": {
    "name": "ipython",
    "version": 3
   },
   "file_extension": ".py",
   "mimetype": "text/x-python",
   "name": "python",
   "nbconvert_exporter": "python",
   "pygments_lexer": "ipython3",
   "version": "3.9.20"
  }
 },
 "nbformat": 4,
 "nbformat_minor": 2
}
